{
 "cells": [
  {
   "cell_type": "code",
   "execution_count": 11,
   "id": "20dcb090",
   "metadata": {},
   "outputs": [],
   "source": [
    "# ignore warnings\n",
    "import warnings\n",
    "warnings.filterwarnings(\"ignore\")\n",
    "\n",
    "import numpy as np\n",
    "import pandas as pd\n",
    "import acquire\n",
    "\n",
    "\n",
    "from pydataset import data\n",
    "\n",
    "from sklearn.model_selection import train_test_split\n",
    "from sklearn.tree import DecisionTreeClassifier, plot_tree\n",
    "from sklearn.metrics import classification_report\n",
    "from sklearn.metrics import confusion_matrix\n",
    "\n",
    "# train test split from sklearn\n",
    "from sklearn.model_selection import train_test_split\n",
    "# imputer from sklearn\n",
    "from sklearn.impute import SimpleImputer\n",
    "\n",
    "import matplotlib.pyplot as plt\n",
    "import seaborn as sns"
   ]
  },
  {
   "cell_type": "markdown",
   "id": "bf55049a",
   "metadata": {},
   "source": [
    "What is your baseline prediction? What is your baseline accuracy? remember: your baseline prediction for a classification problem is predicting the most prevelant class in the training dataset (the mode). When you make those predictions, what is your accuracy? This is your baseline accuracy.\n",
    "\n",
    "Fit the decision tree classifier to your training sample and transform (i.e. make predictions on the training sample)\n",
    "\n",
    "Evaluate your in-sample results using the model score, confusion matrix, and classification report.\n",
    "\n",
    "Compute: Accuracy, true positive rate, false positive rate, true negative rate, false negative rate, precision, recall, f1-score, and support.\n",
    "\n",
    "Run through steps 2-4 using a different max_depth value.\n",
    "\n",
    "Which model performs better on your in-sample data?\n",
    "\n",
    "Which model performs best on your out-of-sample data, the validate set?"
   ]
  },
  {
   "cell_type": "code",
   "execution_count": 2,
   "id": "ee0b04b8",
   "metadata": {},
   "outputs": [],
   "source": [
    "from acquire import get_titanic_data"
   ]
  },
  {
   "cell_type": "code",
   "execution_count": 3,
   "id": "396fc874",
   "metadata": {},
   "outputs": [
    {
     "data": {
      "text/html": [
       "<div>\n",
       "<style scoped>\n",
       "    .dataframe tbody tr th:only-of-type {\n",
       "        vertical-align: middle;\n",
       "    }\n",
       "\n",
       "    .dataframe tbody tr th {\n",
       "        vertical-align: top;\n",
       "    }\n",
       "\n",
       "    .dataframe thead th {\n",
       "        text-align: right;\n",
       "    }\n",
       "</style>\n",
       "<table border=\"1\" class=\"dataframe\">\n",
       "  <thead>\n",
       "    <tr style=\"text-align: right;\">\n",
       "      <th></th>\n",
       "      <th>Unnamed: 0</th>\n",
       "      <th>passenger_id</th>\n",
       "      <th>survived</th>\n",
       "      <th>pclass</th>\n",
       "      <th>sex</th>\n",
       "      <th>age</th>\n",
       "      <th>sibsp</th>\n",
       "      <th>parch</th>\n",
       "      <th>fare</th>\n",
       "      <th>embarked</th>\n",
       "      <th>class</th>\n",
       "      <th>deck</th>\n",
       "      <th>embark_town</th>\n",
       "      <th>alone</th>\n",
       "    </tr>\n",
       "  </thead>\n",
       "  <tbody>\n",
       "    <tr>\n",
       "      <th>0</th>\n",
       "      <td>0</td>\n",
       "      <td>0</td>\n",
       "      <td>0</td>\n",
       "      <td>3</td>\n",
       "      <td>male</td>\n",
       "      <td>22.0</td>\n",
       "      <td>1</td>\n",
       "      <td>0</td>\n",
       "      <td>7.2500</td>\n",
       "      <td>S</td>\n",
       "      <td>Third</td>\n",
       "      <td>NaN</td>\n",
       "      <td>Southampton</td>\n",
       "      <td>0</td>\n",
       "    </tr>\n",
       "    <tr>\n",
       "      <th>1</th>\n",
       "      <td>1</td>\n",
       "      <td>1</td>\n",
       "      <td>1</td>\n",
       "      <td>1</td>\n",
       "      <td>female</td>\n",
       "      <td>38.0</td>\n",
       "      <td>1</td>\n",
       "      <td>0</td>\n",
       "      <td>71.2833</td>\n",
       "      <td>C</td>\n",
       "      <td>First</td>\n",
       "      <td>C</td>\n",
       "      <td>Cherbourg</td>\n",
       "      <td>0</td>\n",
       "    </tr>\n",
       "    <tr>\n",
       "      <th>2</th>\n",
       "      <td>2</td>\n",
       "      <td>2</td>\n",
       "      <td>1</td>\n",
       "      <td>3</td>\n",
       "      <td>female</td>\n",
       "      <td>26.0</td>\n",
       "      <td>0</td>\n",
       "      <td>0</td>\n",
       "      <td>7.9250</td>\n",
       "      <td>S</td>\n",
       "      <td>Third</td>\n",
       "      <td>NaN</td>\n",
       "      <td>Southampton</td>\n",
       "      <td>1</td>\n",
       "    </tr>\n",
       "    <tr>\n",
       "      <th>3</th>\n",
       "      <td>3</td>\n",
       "      <td>3</td>\n",
       "      <td>1</td>\n",
       "      <td>1</td>\n",
       "      <td>female</td>\n",
       "      <td>35.0</td>\n",
       "      <td>1</td>\n",
       "      <td>0</td>\n",
       "      <td>53.1000</td>\n",
       "      <td>S</td>\n",
       "      <td>First</td>\n",
       "      <td>C</td>\n",
       "      <td>Southampton</td>\n",
       "      <td>0</td>\n",
       "    </tr>\n",
       "    <tr>\n",
       "      <th>4</th>\n",
       "      <td>4</td>\n",
       "      <td>4</td>\n",
       "      <td>0</td>\n",
       "      <td>3</td>\n",
       "      <td>male</td>\n",
       "      <td>35.0</td>\n",
       "      <td>0</td>\n",
       "      <td>0</td>\n",
       "      <td>8.0500</td>\n",
       "      <td>S</td>\n",
       "      <td>Third</td>\n",
       "      <td>NaN</td>\n",
       "      <td>Southampton</td>\n",
       "      <td>1</td>\n",
       "    </tr>\n",
       "  </tbody>\n",
       "</table>\n",
       "</div>"
      ],
      "text/plain": [
       "   Unnamed: 0  passenger_id  survived  pclass     sex   age  sibsp  parch  \\\n",
       "0           0             0         0       3    male  22.0      1      0   \n",
       "1           1             1         1       1  female  38.0      1      0   \n",
       "2           2             2         1       3  female  26.0      0      0   \n",
       "3           3             3         1       1  female  35.0      1      0   \n",
       "4           4             4         0       3    male  35.0      0      0   \n",
       "\n",
       "      fare embarked  class deck  embark_town  alone  \n",
       "0   7.2500        S  Third  NaN  Southampton      0  \n",
       "1  71.2833        C  First    C    Cherbourg      0  \n",
       "2   7.9250        S  Third  NaN  Southampton      1  \n",
       "3  53.1000        S  First    C  Southampton      0  \n",
       "4   8.0500        S  Third  NaN  Southampton      1  "
      ]
     },
     "execution_count": 3,
     "metadata": {},
     "output_type": "execute_result"
    }
   ],
   "source": [
    "df = acquire.get_titanic_data()\n",
    "df.head()"
   ]
  },
  {
   "cell_type": "code",
   "execution_count": 4,
   "id": "55876681",
   "metadata": {},
   "outputs": [],
   "source": [
    "def clean_titanic_data(df):\n",
    "    '''\n",
    "    Takes in a titanic dataframe and returns a cleaned dataframe\n",
    "    Arguments: df - a pandas dataframe with the expected feature names and columns\n",
    "    Return: clean_df - a dataframe with the cleaning operations performed on it\n",
    "    '''\n",
    "    # Drop duplicates\n",
    "    df.drop_duplicates(inplace=True)\n",
    "    # Drop columns \n",
    "    columns_to_drop = ['embarked', 'class', 'passenger_id', 'deck', 'Unnamed: 0']\n",
    "    df = df.drop(columns = columns_to_drop)\n",
    "    # encoded categorical variables\n",
    "    dummy_df = pd.get_dummies(df[['sex', 'embark_town']], dummy_na=False, drop_first=[True, True])\n",
    "    df = pd.concat([df, dummy_df], axis=1)\n",
    "    return df.drop(columns=['sex', 'embark_town'])  "
   ]
  },
  {
   "cell_type": "code",
   "execution_count": 5,
   "id": "da98f9ce",
   "metadata": {},
   "outputs": [
    {
     "data": {
      "text/html": [
       "<div>\n",
       "<style scoped>\n",
       "    .dataframe tbody tr th:only-of-type {\n",
       "        vertical-align: middle;\n",
       "    }\n",
       "\n",
       "    .dataframe tbody tr th {\n",
       "        vertical-align: top;\n",
       "    }\n",
       "\n",
       "    .dataframe thead th {\n",
       "        text-align: right;\n",
       "    }\n",
       "</style>\n",
       "<table border=\"1\" class=\"dataframe\">\n",
       "  <thead>\n",
       "    <tr style=\"text-align: right;\">\n",
       "      <th></th>\n",
       "      <th>survived</th>\n",
       "      <th>pclass</th>\n",
       "      <th>age</th>\n",
       "      <th>sibsp</th>\n",
       "      <th>parch</th>\n",
       "      <th>fare</th>\n",
       "      <th>alone</th>\n",
       "      <th>sex_male</th>\n",
       "      <th>embark_town_Queenstown</th>\n",
       "      <th>embark_town_Southampton</th>\n",
       "    </tr>\n",
       "  </thead>\n",
       "  <tbody>\n",
       "    <tr>\n",
       "      <th>0</th>\n",
       "      <td>0</td>\n",
       "      <td>3</td>\n",
       "      <td>22.0</td>\n",
       "      <td>1</td>\n",
       "      <td>0</td>\n",
       "      <td>7.2500</td>\n",
       "      <td>0</td>\n",
       "      <td>1</td>\n",
       "      <td>0</td>\n",
       "      <td>1</td>\n",
       "    </tr>\n",
       "    <tr>\n",
       "      <th>1</th>\n",
       "      <td>1</td>\n",
       "      <td>1</td>\n",
       "      <td>38.0</td>\n",
       "      <td>1</td>\n",
       "      <td>0</td>\n",
       "      <td>71.2833</td>\n",
       "      <td>0</td>\n",
       "      <td>0</td>\n",
       "      <td>0</td>\n",
       "      <td>0</td>\n",
       "    </tr>\n",
       "    <tr>\n",
       "      <th>2</th>\n",
       "      <td>1</td>\n",
       "      <td>3</td>\n",
       "      <td>26.0</td>\n",
       "      <td>0</td>\n",
       "      <td>0</td>\n",
       "      <td>7.9250</td>\n",
       "      <td>1</td>\n",
       "      <td>0</td>\n",
       "      <td>0</td>\n",
       "      <td>1</td>\n",
       "    </tr>\n",
       "    <tr>\n",
       "      <th>3</th>\n",
       "      <td>1</td>\n",
       "      <td>1</td>\n",
       "      <td>35.0</td>\n",
       "      <td>1</td>\n",
       "      <td>0</td>\n",
       "      <td>53.1000</td>\n",
       "      <td>0</td>\n",
       "      <td>0</td>\n",
       "      <td>0</td>\n",
       "      <td>1</td>\n",
       "    </tr>\n",
       "    <tr>\n",
       "      <th>4</th>\n",
       "      <td>0</td>\n",
       "      <td>3</td>\n",
       "      <td>35.0</td>\n",
       "      <td>0</td>\n",
       "      <td>0</td>\n",
       "      <td>8.0500</td>\n",
       "      <td>1</td>\n",
       "      <td>1</td>\n",
       "      <td>0</td>\n",
       "      <td>1</td>\n",
       "    </tr>\n",
       "  </tbody>\n",
       "</table>\n",
       "</div>"
      ],
      "text/plain": [
       "   survived  pclass   age  sibsp  parch     fare  alone  sex_male  \\\n",
       "0         0       3  22.0      1      0   7.2500      0         1   \n",
       "1         1       1  38.0      1      0  71.2833      0         0   \n",
       "2         1       3  26.0      0      0   7.9250      1         0   \n",
       "3         1       1  35.0      1      0  53.1000      0         0   \n",
       "4         0       3  35.0      0      0   8.0500      1         1   \n",
       "\n",
       "   embark_town_Queenstown  embark_town_Southampton  \n",
       "0                       0                        1  \n",
       "1                       0                        0  \n",
       "2                       0                        1  \n",
       "3                       0                        1  \n",
       "4                       0                        1  "
      ]
     },
     "execution_count": 5,
     "metadata": {},
     "output_type": "execute_result"
    }
   ],
   "source": [
    "df = clean_titanic_data(df)\n",
    "df.head()"
   ]
  },
  {
   "cell_type": "code",
   "execution_count": 6,
   "id": "763cd125",
   "metadata": {},
   "outputs": [],
   "source": [
    "def impute_age(train, validate, test):\n",
    "    '''\n",
    "    Imputes the mean age of train to all three datasets\n",
    "    '''\n",
    "    imputer = SimpleImputer(strategy='mean', missing_values=np.nan)\n",
    "    imputer = imputer.fit(train[['age']])\n",
    "    train[['age']] = imputer.transform(train[['age']])\n",
    "    validate[['age']] = imputer.transform(validate[['age']])\n",
    "    test[['age']] = imputer.transform(test[['age']])\n",
    "    return train, validate, test"
   ]
  },
  {
   "cell_type": "code",
   "execution_count": 9,
   "id": "717e296a",
   "metadata": {},
   "outputs": [],
   "source": [
    "def prep_titanic_data(df): \n",
    "    train, test = train_test_split(df,\n",
    "                               train_size = 0.8,\n",
    "                               stratify = df.survived,\n",
    "                               random_state=1234)\n",
    "    train, validate = train_test_split(train,\n",
    "                                  train_size = 0.7,\n",
    "                                  stratify = train.survived,\n",
    "                                  random_state=1234)\n",
    "    train, validate, test = impute_age(train, validate, test)\n",
    "    return train, validate, test"
   ]
  },
  {
   "cell_type": "code",
   "execution_count": 12,
   "id": "055fa18d",
   "metadata": {},
   "outputs": [],
   "source": [
    "train, validate, test = prep_titanic_data(df)\n"
   ]
  },
  {
   "cell_type": "code",
   "execution_count": 18,
   "id": "fa8bea14",
   "metadata": {},
   "outputs": [
    {
     "data": {
      "text/plain": [
       "((436, 10), (188, 10), (156, 10))"
      ]
     },
     "execution_count": 18,
     "metadata": {},
     "output_type": "execute_result"
    }
   ],
   "source": [
    "train.shape, validate.shape, test.shape"
   ]
  },
  {
   "cell_type": "code",
   "execution_count": 19,
   "id": "efe7e4c7",
   "metadata": {},
   "outputs": [
    {
     "data": {
      "text/plain": [
       "0    256\n",
       "1    180\n",
       "Name: survived, dtype: int64"
      ]
     },
     "execution_count": 19,
     "metadata": {},
     "output_type": "execute_result"
    }
   ],
   "source": [
    "# determine baseline model\n",
    "train.survived.value_counts() "
   ]
  },
  {
   "cell_type": "code",
   "execution_count": 62,
   "id": "ff86b839",
   "metadata": {},
   "outputs": [
    {
     "data": {
      "text/html": [
       "<div>\n",
       "<style scoped>\n",
       "    .dataframe tbody tr th:only-of-type {\n",
       "        vertical-align: middle;\n",
       "    }\n",
       "\n",
       "    .dataframe tbody tr th {\n",
       "        vertical-align: top;\n",
       "    }\n",
       "\n",
       "    .dataframe thead th {\n",
       "        text-align: right;\n",
       "    }\n",
       "</style>\n",
       "<table border=\"1\" class=\"dataframe\">\n",
       "  <thead>\n",
       "    <tr style=\"text-align: right;\">\n",
       "      <th></th>\n",
       "      <th>survived</th>\n",
       "      <th>pclass</th>\n",
       "      <th>age</th>\n",
       "      <th>sibsp</th>\n",
       "      <th>parch</th>\n",
       "      <th>fare</th>\n",
       "      <th>alone</th>\n",
       "      <th>sex_male</th>\n",
       "      <th>embark_town_Queenstown</th>\n",
       "      <th>embark_town_Southampton</th>\n",
       "      <th>baseline_prediction</th>\n",
       "    </tr>\n",
       "  </thead>\n",
       "  <tbody>\n",
       "    <tr>\n",
       "      <th>0</th>\n",
       "      <td>0</td>\n",
       "      <td>3</td>\n",
       "      <td>22.0</td>\n",
       "      <td>1</td>\n",
       "      <td>0</td>\n",
       "      <td>7.2500</td>\n",
       "      <td>0</td>\n",
       "      <td>1</td>\n",
       "      <td>0</td>\n",
       "      <td>1</td>\n",
       "      <td>0</td>\n",
       "    </tr>\n",
       "    <tr>\n",
       "      <th>1</th>\n",
       "      <td>1</td>\n",
       "      <td>1</td>\n",
       "      <td>38.0</td>\n",
       "      <td>1</td>\n",
       "      <td>0</td>\n",
       "      <td>71.2833</td>\n",
       "      <td>0</td>\n",
       "      <td>0</td>\n",
       "      <td>0</td>\n",
       "      <td>0</td>\n",
       "      <td>0</td>\n",
       "    </tr>\n",
       "    <tr>\n",
       "      <th>2</th>\n",
       "      <td>1</td>\n",
       "      <td>3</td>\n",
       "      <td>26.0</td>\n",
       "      <td>0</td>\n",
       "      <td>0</td>\n",
       "      <td>7.9250</td>\n",
       "      <td>1</td>\n",
       "      <td>0</td>\n",
       "      <td>0</td>\n",
       "      <td>1</td>\n",
       "      <td>0</td>\n",
       "    </tr>\n",
       "    <tr>\n",
       "      <th>3</th>\n",
       "      <td>1</td>\n",
       "      <td>1</td>\n",
       "      <td>35.0</td>\n",
       "      <td>1</td>\n",
       "      <td>0</td>\n",
       "      <td>53.1000</td>\n",
       "      <td>0</td>\n",
       "      <td>0</td>\n",
       "      <td>0</td>\n",
       "      <td>1</td>\n",
       "      <td>0</td>\n",
       "    </tr>\n",
       "    <tr>\n",
       "      <th>4</th>\n",
       "      <td>0</td>\n",
       "      <td>3</td>\n",
       "      <td>35.0</td>\n",
       "      <td>0</td>\n",
       "      <td>0</td>\n",
       "      <td>8.0500</td>\n",
       "      <td>1</td>\n",
       "      <td>1</td>\n",
       "      <td>0</td>\n",
       "      <td>1</td>\n",
       "      <td>0</td>\n",
       "    </tr>\n",
       "  </tbody>\n",
       "</table>\n",
       "</div>"
      ],
      "text/plain": [
       "   survived  pclass   age  sibsp  parch     fare  alone  sex_male  \\\n",
       "0         0       3  22.0      1      0   7.2500      0         1   \n",
       "1         1       1  38.0      1      0  71.2833      0         0   \n",
       "2         1       3  26.0      0      0   7.9250      1         0   \n",
       "3         1       1  35.0      1      0  53.1000      0         0   \n",
       "4         0       3  35.0      0      0   8.0500      1         1   \n",
       "\n",
       "   embark_town_Queenstown  embark_town_Southampton  baseline_prediction  \n",
       "0                       0                        1                    0  \n",
       "1                       0                        0                    0  \n",
       "2                       0                        1                    0  \n",
       "3                       0                        1                    0  \n",
       "4                       0                        1                    0  "
      ]
     },
     "execution_count": 62,
     "metadata": {},
     "output_type": "execute_result"
    }
   ],
   "source": [
    "df['baseline_prediction'] = 0\n",
    "df.head()"
   ]
  },
  {
   "cell_type": "code",
   "execution_count": 61,
   "id": "102041ca",
   "metadata": {},
   "outputs": [
    {
     "data": {
      "text/plain": [
       "0      False\n",
       "1      False\n",
       "2      False\n",
       "3      False\n",
       "4      False\n",
       "       ...  \n",
       "885    False\n",
       "887    False\n",
       "888    False\n",
       "889    False\n",
       "890    False\n",
       "Name: baseline_prediction, Length: 780, dtype: bool"
      ]
     },
     "execution_count": 61,
     "metadata": {},
     "output_type": "execute_result"
    }
   ],
   "source": [
    "baseline_accuracy = (df.baseline_prediction == df.actual).mean()\n",
    "print(f'baseline accuracy: {baseline_accuracy:.2%}')"
   ]
  },
  {
   "cell_type": "code",
   "execution_count": 23,
   "id": "05dc4ddc",
   "metadata": {},
   "outputs": [],
   "source": [
    "# create X & y version of train, where y is a series with just the target variable and X are all the features. \n",
    "\n",
    "X_train = train.drop(columns=['survived'])\n",
    "y_train = train.survived\n",
    "\n",
    "X_validate = validate.drop(columns=['survived'])\n",
    "y_validate = validate.survived\n",
    "\n",
    "X_test = test.drop(columns=['survived'])\n",
    "y_test = test.survived"
   ]
  },
  {
   "cell_type": "code",
   "execution_count": 40,
   "id": "2823c0a3",
   "metadata": {},
   "outputs": [],
   "source": [
    "# for classification you can change the algorithm to gini or entropy (information gain).  \n",
    "# Default is gini.\n",
    "\n",
    "clf = DecisionTreeClassifier(max_depth=3, random_state=123)\n"
   ]
  },
  {
   "cell_type": "code",
   "execution_count": 41,
   "id": "8cb33a7c",
   "metadata": {},
   "outputs": [],
   "source": [
    "clf = clf.fit(X_train, y_train)"
   ]
  },
  {
   "cell_type": "code",
   "execution_count": 42,
   "id": "18d1e8fe",
   "metadata": {},
   "outputs": [
    {
     "data": {
      "text/plain": [
       "[Text(362.7, 332.955, 'sex_male <= 0.5\\ngini = 0.485\\nsamples = 436\\nvalue = [256, 180]\\nclass = 0'),\n",
       " Text(181.35, 237.825, 'pclass <= 2.5\\ngini = 0.407\\nsamples = 162\\nvalue = [46, 116]\\nclass = 1'),\n",
       " Text(90.675, 142.695, 'age <= 3.0\\ngini = 0.108\\nsamples = 87\\nvalue = [5, 82]\\nclass = 1'),\n",
       " Text(45.3375, 47.565, 'gini = 0.0\\nsamples = 1\\nvalue = [1, 0]\\nclass = 0'),\n",
       " Text(136.0125, 47.565, 'gini = 0.089\\nsamples = 86\\nvalue = [4, 82]\\nclass = 1'),\n",
       " Text(272.025, 142.695, 'age <= 38.5\\ngini = 0.496\\nsamples = 75\\nvalue = [41, 34]\\nclass = 0'),\n",
       " Text(226.6875, 47.565, 'gini = 0.5\\nsamples = 66\\nvalue = [32, 34]\\nclass = 1'),\n",
       " Text(317.3625, 47.565, 'gini = 0.0\\nsamples = 9\\nvalue = [9, 0]\\nclass = 0'),\n",
       " Text(544.05, 237.825, 'age <= 5.5\\ngini = 0.358\\nsamples = 274\\nvalue = [210, 64]\\nclass = 0'),\n",
       " Text(453.375, 142.695, 'sibsp <= 3.0\\ngini = 0.355\\nsamples = 13\\nvalue = [3, 10]\\nclass = 1'),\n",
       " Text(408.03749999999997, 47.565, 'gini = 0.0\\nsamples = 9\\nvalue = [0, 9]\\nclass = 1'),\n",
       " Text(498.7125, 47.565, 'gini = 0.375\\nsamples = 4\\nvalue = [3, 1]\\nclass = 0'),\n",
       " Text(634.725, 142.695, 'pclass <= 1.5\\ngini = 0.328\\nsamples = 261\\nvalue = [207, 54]\\nclass = 0'),\n",
       " Text(589.3874999999999, 47.565, 'gini = 0.487\\nsamples = 62\\nvalue = [36, 26]\\nclass = 0'),\n",
       " Text(680.0625, 47.565, 'gini = 0.242\\nsamples = 199\\nvalue = [171, 28]\\nclass = 0')]"
      ]
     },
     "execution_count": 42,
     "metadata": {},
     "output_type": "execute_result"
    },
    {
     "data": {
      "image/png": "[encoded data removed]",
      "text/plain": [
       "<Figure size 936x504 with 1 Axes>"
      ]
     },
     "metadata": {
      "needs_background": "light"
     },
     "output_type": "display_data"
    }
   ],
   "source": [
    "plt.figure(figsize=(13, 7))\n",
    "plot_tree(clf, feature_names=X_train.columns, class_names = clf.classes_.astype(str), rounded=True)\n"
   ]
  },
  {
   "cell_type": "code",
   "execution_count": 43,
   "id": "63e76932",
   "metadata": {},
   "outputs": [
    {
     "data": {
      "text/plain": [
       "array([0, 0, 1, 0, 1, 1, 0, 1, 0, 0, 0, 1, 1, 0, 0])"
      ]
     },
     "execution_count": 43,
     "metadata": {},
     "output_type": "execute_result"
    }
   ],
   "source": [
    "# make prediction on train obeservations\n",
    "\n",
    "y_pred = clf.predict(X_train)\n",
    "y_pred[0:15]\n"
   ]
  },
  {
   "cell_type": "code",
   "execution_count": 44,
   "id": "f7c106ba",
   "metadata": {},
   "outputs": [
    {
     "data": {
      "text/plain": [
       "array([[0.85929648, 0.14070352],\n",
       "       [0.85929648, 0.14070352],\n",
       "       [0.48484848, 0.51515152],\n",
       "       [0.85929648, 0.14070352],\n",
       "       [0.04651163, 0.95348837],\n",
       "       [0.48484848, 0.51515152],\n",
       "       [0.58064516, 0.41935484],\n",
       "       [0.48484848, 0.51515152],\n",
       "       [0.58064516, 0.41935484],\n",
       "       [0.58064516, 0.41935484],\n",
       "       [0.85929648, 0.14070352],\n",
       "       [0.        , 1.        ],\n",
       "       [0.04651163, 0.95348837],\n",
       "       [0.85929648, 0.14070352],\n",
       "       [0.85929648, 0.14070352]])"
      ]
     },
     "execution_count": 44,
     "metadata": {},
     "output_type": "execute_result"
    }
   ],
   "source": [
    "y_pred_proba = clf.predict_proba(X_train)\n",
    "y_pred_proba[0:15]"
   ]
  },
  {
   "cell_type": "code",
   "execution_count": 45,
   "id": "00f6e07f",
   "metadata": {},
   "outputs": [
    {
     "name": "stdout",
     "output_type": "stream",
     "text": [
      "Accuracy of Decision Tree classifier on training set: 0.79\n"
     ]
    }
   ],
   "source": [
    "print('Accuracy of Decision Tree classifier on training set: {:.2f}'\n",
    "      .format(clf.score(X_train, y_train)))\n"
   ]
  },
  {
   "cell_type": "code",
   "execution_count": 46,
   "id": "21801580",
   "metadata": {},
   "outputs": [
    {
     "data": {
      "text/plain": [
       "array([[220,  36],\n",
       "       [ 55, 125]])"
      ]
     },
     "execution_count": 46,
     "metadata": {},
     "output_type": "execute_result"
    }
   ],
   "source": [
    "# confusion matrix\n",
    "\n",
    "confusion_matrix(y_train, y_pred)\n"
   ]
  },
  {
   "cell_type": "code",
   "execution_count": 47,
   "id": "caf63c0c",
   "metadata": {},
   "outputs": [
    {
     "data": {
      "text/plain": [
       "0    256\n",
       "1    180\n",
       "Name: survived, dtype: int64"
      ]
     },
     "execution_count": 47,
     "metadata": {},
     "output_type": "execute_result"
    }
   ],
   "source": [
    "y_train.value_counts()\n"
   ]
  },
  {
   "cell_type": "code",
   "execution_count": 48,
   "id": "ba291820",
   "metadata": {},
   "outputs": [
    {
     "data": {
      "text/html": [
       "<div>\n",
       "<style scoped>\n",
       "    .dataframe tbody tr th:only-of-type {\n",
       "        vertical-align: middle;\n",
       "    }\n",
       "\n",
       "    .dataframe tbody tr th {\n",
       "        vertical-align: top;\n",
       "    }\n",
       "\n",
       "    .dataframe thead th {\n",
       "        text-align: right;\n",
       "    }\n",
       "</style>\n",
       "<table border=\"1\" class=\"dataframe\">\n",
       "  <thead>\n",
       "    <tr style=\"text-align: right;\">\n",
       "      <th></th>\n",
       "      <th>0</th>\n",
       "      <th>1</th>\n",
       "    </tr>\n",
       "  </thead>\n",
       "  <tbody>\n",
       "    <tr>\n",
       "      <th>0</th>\n",
       "      <td>220</td>\n",
       "      <td>36</td>\n",
       "    </tr>\n",
       "    <tr>\n",
       "      <th>1</th>\n",
       "      <td>55</td>\n",
       "      <td>125</td>\n",
       "    </tr>\n",
       "  </tbody>\n",
       "</table>\n",
       "</div>"
      ],
      "text/plain": [
       "     0    1\n",
       "0  220   36\n",
       "1   55  125"
      ]
     },
     "execution_count": 48,
     "metadata": {},
     "output_type": "execute_result"
    }
   ],
   "source": [
    "import pandas as pd\n",
    "\n",
    "labels = sorted(y_train.unique())\n",
    "\n",
    "pd.DataFrame(confusion_matrix(y_train, y_pred), index=labels, columns=labels)\n"
   ]
  },
  {
   "cell_type": "code",
   "execution_count": 49,
   "id": "d8028486",
   "metadata": {},
   "outputs": [
    {
     "name": "stdout",
     "output_type": "stream",
     "text": [
      "              precision    recall  f1-score   support\n",
      "\n",
      "           0       0.80      0.86      0.83       256\n",
      "           1       0.78      0.69      0.73       180\n",
      "\n",
      "    accuracy                           0.79       436\n",
      "   macro avg       0.79      0.78      0.78       436\n",
      "weighted avg       0.79      0.79      0.79       436\n",
      "\n"
     ]
    }
   ],
   "source": [
    "print(classification_report(y_train, y_pred))\n"
   ]
  },
  {
   "cell_type": "code",
   "execution_count": 50,
   "id": "14bc571f",
   "metadata": {},
   "outputs": [
    {
     "name": "stdout",
     "output_type": "stream",
     "text": [
      "Accuracy of Decision Tree classifier on validate set: 0.78\n"
     ]
    }
   ],
   "source": [
    "print('Accuracy of Decision Tree classifier on validate set: {:.2f}'\n",
    "     .format(clf.score(X_validate, y_validate)))\n"
   ]
  },
  {
   "cell_type": "code",
   "execution_count": 51,
   "id": "1223b7d2",
   "metadata": {},
   "outputs": [
    {
     "name": "stdout",
     "output_type": "stream",
     "text": [
      "              precision    recall  f1-score   support\n",
      "\n",
      "           0       0.81      0.81      0.81       110\n",
      "           1       0.73      0.73      0.73        78\n",
      "\n",
      "    accuracy                           0.78       188\n",
      "   macro avg       0.77      0.77      0.77       188\n",
      "weighted avg       0.78      0.78      0.78       188\n",
      "\n"
     ]
    }
   ],
   "source": [
    "# Produce y_predictions that come from the X_validate\n",
    "y_pred = clf.predict(X_validate)\n",
    "\n",
    "# Compare actual y values (from validate) to predicted y_values from the model run on X_validate\n",
    "print(classification_report(y_validate, y_pred))\n"
   ]
  },
  {
   "cell_type": "code",
   "execution_count": 54,
   "id": "10c5ca14",
   "metadata": {},
   "outputs": [
    {
     "name": "stdout",
     "output_type": "stream",
     "text": [
      "Accuracy of Decision Tree classifier on training set: 0.78\n",
      "              precision    recall  f1-score   support\n",
      "\n",
      "           0       0.74      0.97      0.84       256\n",
      "           1       0.92      0.51      0.66       180\n",
      "\n",
      "    accuracy                           0.78       436\n",
      "   macro avg       0.83      0.74      0.75       436\n",
      "weighted avg       0.81      0.78      0.76       436\n",
      "\n",
      "Accuracy of Decision Tree classifier on validate set: 0.78\n",
      "              precision    recall  f1-score   support\n",
      "\n",
      "           0       0.75      0.94      0.83       110\n",
      "           1       0.86      0.56      0.68        78\n",
      "\n",
      "    accuracy                           0.78       188\n",
      "   macro avg       0.81      0.75      0.76       188\n",
      "weighted avg       0.80      0.78      0.77       188\n",
      "\n"
     ]
    },
    {
     "data": {
      "image/png": "[encoded data removed]",
      "text/plain": [
       "<Figure size 936x504 with 1 Axes>"
      ]
     },
     "metadata": {
      "needs_background": "light"
     },
     "output_type": "display_data"
    }
   ],
   "source": [
    "# for classification you can change the algorithm to gini or entropy (information gain).  \n",
    "# Default is gini.\n",
    "\n",
    "clf = DecisionTreeClassifier(max_depth=2, random_state=123)\n",
    "\n",
    "\n",
    "clf = clf.fit(X_train, y_train)\n",
    "\n",
    "plt.figure(figsize=(13, 7))\n",
    "plot_tree(clf, feature_names=X_train.columns, class_names = clf.classes_.astype(str), rounded=True)\n",
    "\n",
    "\n",
    "# make prediction on train obeservations\n",
    "\n",
    "y_pred = clf.predict(X_train)\n",
    "y_pred[0:15]\n",
    "\n",
    "\n",
    "y_pred_proba = clf.predict_proba(X_train)\n",
    "y_pred_proba[0:15]\n",
    "\n",
    "print('Accuracy of Decision Tree classifier on training set: {:.2f}'\n",
    "      .format(clf.score(X_train, y_train)))\n",
    "\n",
    "\n",
    "# confusion matrix\n",
    "\n",
    "confusion_matrix(y_train, y_pred)\n",
    "\n",
    "\n",
    "y_train.value_counts()\n",
    "\n",
    "\n",
    "import pandas as pd\n",
    "\n",
    "labels = sorted(y_train.unique())\n",
    "\n",
    "pd.DataFrame(confusion_matrix(y_train, y_pred), index=labels, columns=labels)\n",
    "\n",
    "\n",
    "print(classification_report(y_train, y_pred))\n",
    "\n",
    "\n",
    "print('Accuracy of Decision Tree classifier on validate set: {:.2f}'\n",
    "     .format(clf.score(X_validate, y_validate)))\n",
    "\n",
    "\n",
    "# Produce y_predictions that come from the X_validate\n",
    "y_pred = clf.predict(X_validate)\n",
    "\n",
    "# Compare actual y values (from validate) to predicted y_values from the model run on X_validate\n",
    "print(classification_report(y_validate, y_pred))\n"
   ]
  },
  {
   "cell_type": "code",
   "execution_count": 53,
   "id": "d2045d06",
   "metadata": {},
   "outputs": [
    {
     "name": "stdout",
     "output_type": "stream",
     "text": [
      "Accuracy of Decision Tree classifier on training set: 0.87\n",
      "              precision    recall  f1-score   support\n",
      "\n",
      "           0       0.85      0.94      0.90       256\n",
      "           1       0.90      0.77      0.83       180\n",
      "\n",
      "    accuracy                           0.87       436\n",
      "   macro avg       0.88      0.86      0.86       436\n",
      "weighted avg       0.87      0.87      0.87       436\n",
      "\n",
      "Accuracy of Decision Tree classifier on validate set: 0.79\n",
      "              precision    recall  f1-score   support\n",
      "\n",
      "           0       0.81      0.83      0.82       110\n",
      "           1       0.75      0.73      0.74        78\n",
      "\n",
      "    accuracy                           0.79       188\n",
      "   macro avg       0.78      0.78      0.78       188\n",
      "weighted avg       0.79      0.79      0.79       188\n",
      "\n"
     ]
    },
    {
     "data": {
      "image/png": "[encoded data removed]",
      "text/plain": [
       "<Figure size 936x504 with 1 Axes>"
      ]
     },
     "metadata": {
      "needs_background": "light"
     },
     "output_type": "display_data"
    }
   ],
   "source": [
    "# for classification you can change the algorithm to gini or entropy (information gain).  \n",
    "# Default is gini.\n",
    "\n",
    "clf = DecisionTreeClassifier(max_depth=7, random_state=123)\n",
    "\n",
    "\n",
    "clf = clf.fit(X_train, y_train)\n",
    "\n",
    "plt.figure(figsize=(13, 7))\n",
    "plot_tree(clf, feature_names=X_train.columns, class_names = clf.classes_.astype(str), rounded=True)\n",
    "\n",
    "\n",
    "# make prediction on train obeservations\n",
    "\n",
    "y_pred = clf.predict(X_train)\n",
    "y_pred[0:15]\n",
    "\n",
    "\n",
    "y_pred_proba = clf.predict_proba(X_train)\n",
    "y_pred_proba[0:15]\n",
    "\n",
    "print('Accuracy of Decision Tree classifier on training set: {:.2f}'\n",
    "      .format(clf.score(X_train, y_train)))\n",
    "\n",
    "\n",
    "# confusion matrix\n",
    "\n",
    "confusion_matrix(y_train, y_pred)\n",
    "\n",
    "\n",
    "y_train.value_counts()\n",
    "\n",
    "\n",
    "import pandas as pd\n",
    "\n",
    "labels = sorted(y_train.unique())\n",
    "\n",
    "pd.DataFrame(confusion_matrix(y_train, y_pred), index=labels, columns=labels)\n",
    "\n",
    "\n",
    "print(classification_report(y_train, y_pred))\n",
    "\n",
    "\n",
    "print('Accuracy of Decision Tree classifier on validate set: {:.2f}'\n",
    "     .format(clf.score(X_validate, y_validate)))\n",
    "\n",
    "\n",
    "# Produce y_predictions that come from the X_validate\n",
    "y_pred = clf.predict(X_validate)\n",
    "\n",
    "# Compare actual y values (from validate) to predicted y_values from the model run on X_validate\n",
    "print(classification_report(y_validate, y_pred))\n"
   ]
  },
  {
   "cell_type": "code",
   "execution_count": null,
   "id": "b50406ab",
   "metadata": {},
   "outputs": [],
   "source": []
  }
 ],
 "metadata": {
  "kernelspec": {
   "display_name": "Python 3 (ipykernel)",
   "language": "python",
   "name": "python3"
  },
  "language_info": {
   "codemirror_mode": {
    "name": "ipython",
    "version": 3
   },
   "file_extension": ".py",
   "mimetype": "text/x-python",
   "name": "python",
   "nbconvert_exporter": "python",
   "pygments_lexer": "ipython3",
   "version": "3.9.7"
  }
 },
 "nbformat": 4,
 "nbformat_minor": 5
}
